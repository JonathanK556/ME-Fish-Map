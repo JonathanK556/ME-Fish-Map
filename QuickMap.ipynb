{
 "cells": [
  {
   "cell_type": "code",
   "execution_count": 1,
   "metadata": {},
   "outputs": [
    {
     "name": "stderr",
     "output_type": "stream",
     "text": [
      "/Users/jonathan/Library/Python/3.9/lib/python/site-packages/urllib3/__init__.py:35: NotOpenSSLWarning: urllib3 v2 only supports OpenSSL 1.1.1+, currently the 'ssl' module is compiled with 'LibreSSL 2.8.3'. See: https://github.com/urllib3/urllib3/issues/3020\n",
      "  warnings.warn(\n"
     ]
    }
   ],
   "source": [
    "# Import Libraries\n",
    "import pandas as pd\n",
    "import folium\n",
    "import random\n",
    "import ipywidgets as widgets\n",
    "from ipywidgets import interact\n",
    "from IPython.display import display"
   ]
  },
  {
   "cell_type": "code",
   "execution_count": 2,
   "metadata": {},
   "outputs": [],
   "source": [
    "df_updated = pd.read_csv('df_updated.csv')"
   ]
  },
  {
   "cell_type": "code",
   "execution_count": null,
   "metadata": {},
   "outputs": [
    {
     "data": {
      "application/vnd.jupyter.widget-view+json": {
       "model_id": "dab04c84574c4301832b54bca982aa86",
       "version_major": 2,
       "version_minor": 0
      },
      "text/plain": [
       "interactive(children=(SelectMultiple(description='Species:', index=(0, 1, 2, 3, 4, 5), options=('BROOK TROUT',…"
      ]
     },
     "metadata": {},
     "output_type": "display_data"
    }
   ],
   "source": [
    "# Initialize the map, set to a central point in Maine (or adjust as needed)\n",
    "map_center = [44.6939, -69.3815]  # Central Maine coordinates (latitude, longitude)\n",
    "m = folium.Map(location=map_center, zoom_start=7)\n",
    "\n",
    "# Group data by water body, town, and county\n",
    "grouped = df_updated.groupby(['WATER', 'TOWN', 'COUNTY'])\n",
    "\n",
    "# Function to update the map based on selected species, date filters (Spring/Fall), and search\n",
    "def update_map(selected_species, show_spring, show_fall, search_term, min_qty):\n",
    "    # Clear the map before adding new markers\n",
    "    m = folium.Map(location=map_center, zoom_start=7)\n",
    "\n",
    "    # Filter the grouped data based on the search term\n",
    "    filtered_groups = []\n",
    "    for (water_name, town_name, county_name), group in grouped:\n",
    "        # Check if the search term is in any of the fields (water, town, or county)\n",
    "        if (search_term.lower() in water_name.lower() or\n",
    "            search_term.lower() in town_name.lower() or\n",
    "            search_term.lower() in county_name.lower()):\n",
    "            filtered_groups.append((water_name, town_name, county_name, group))\n",
    "\n",
    "    # Add markers to the map for each unique water body, town, and county combination\n",
    "    for (water_name, town_name, county_name, group) in filtered_groups:\n",
    "        species_list = []\n",
    "        qty_list = []\n",
    "        size_list = []\n",
    "        date_list = []\n",
    "\n",
    "        # Loop through each row in the group and collect the data\n",
    "        for _, row in group.iterrows():\n",
    "            species_list.append(row['SPECIES'])\n",
    "            qty_list.append(row['QTY'])\n",
    "            size_list.append(row['SIZE (inch)'])\n",
    "            date_list.append(row['DATE'])\n",
    "\n",
    "        # Filter data by species and date (Spring/Fall)\n",
    "        filtered_rows = []\n",
    "        for species, qty, size, date in zip(species_list, qty_list, size_list, date_list):\n",
    "            month = pd.to_datetime(date).month  # Get the month from the date\n",
    "            if (show_spring and month <= 6) or (show_fall and month >= 7):\n",
    "                if species in selected_species and qty >= min_qty:  # Filter by min_qty\n",
    "                    filtered_rows.append((species, qty, size, date))\n",
    "\n",
    "        # Only display markers if there is data to show after filtering\n",
    "        if filtered_rows:\n",
    "            popup_text = f\"\"\"\n",
    "            <b>Water Body:</b> {water_name}<br>\n",
    "            <b>Town:</b> {town_name}<br>\n",
    "            <b>County:</b> {county_name}<br>\n",
    "            <b>Stocking Data:</b><br>\n",
    "            <ul>\n",
    "            \"\"\"\n",
    "            for species, qty, size, date in filtered_rows:\n",
    "                popup_text += f\"\"\"\n",
    "                <li><b>{species}</b> - {qty} fish, Size: {size} inches, Date: {date}</li>\n",
    "                \"\"\"\n",
    "            popup_text += \"</ul>\"\n",
    "\n",
    "            # Use the average coordinates of the water body/town combination\n",
    "            avg_x = group['X_coord'].mean()\n",
    "            avg_y = group['Y_coord'].mean()\n",
    "\n",
    "            # Offset coordinates slightly if there are multiple towns associated with the same water body\n",
    "            offset_x = random.uniform(-0.001, 0.001)  # Random offset for longitude\n",
    "            offset_y = random.uniform(-0.001, 0.001)  # Random offset for latitude\n",
    "\n",
    "            # Add a single marker for the water body/town combo with grouped popup data\n",
    "            folium.Marker(\n",
    "                location=[avg_y + offset_y, avg_x + offset_x],  # Apply offset to average coordinates\n",
    "                popup=folium.Popup(popup_text, max_width=300),\n",
    "                icon=folium.Icon(color='green')  # Popup with the grouped stocking data\n",
    "            ).add_to(m)\n",
    "\n",
    "    # Display the updated map\n",
    "    display(m)\n",
    "\n",
    "# List of unique species in your dataset\n",
    "species_list = df_updated['SPECIES'].unique()\n",
    "\n",
    "# Create checkboxes for each species\n",
    "checkboxes = widgets.SelectMultiple(\n",
    "    options=species_list,\n",
    "    value=species_list.tolist(),  # Start with all species selected\n",
    "    description='Species:',\n",
    "    disabled=False\n",
    ")\n",
    "\n",
    "# Create checkboxes for Spring and Fall Stocking\n",
    "spring_checkbox = widgets.Checkbox(\n",
    "    value=False,\n",
    "    description='Spring Stocking (Jan-Jun)',\n",
    "    disabled=False\n",
    ")\n",
    "\n",
    "fall_checkbox = widgets.Checkbox(\n",
    "    value=False,\n",
    "    description='Fall Stocking (Jul-Dec)',\n",
    "    disabled=False\n",
    ")\n",
    "\n",
    "# Create a search bar to filter by water body, town, or county\n",
    "search_bar = widgets.Text(\n",
    "    value='',\n",
    "    description='Search:',\n",
    "    placeholder='Type water body, town, or county'\n",
    ")\n",
    "\n",
    "# Create a text box for users to enter the minimum quantity of fish\n",
    "qty_textbox = widgets.IntText(\n",
    "    value=0,  # Default value\n",
    "    description='Min Qty:',\n",
    "    min=0,  # Minimum allowed value\n",
    "    step=1,  # Step size for the input\n",
    "    style={'description_width': 'initial'}\n",
    ")\n",
    "\n",
    "# Display the checkboxes, text box, and search bar, and link them to the map update function\n",
    "interact(update_map, \n",
    "         selected_species=checkboxes, \n",
    "         show_spring=spring_checkbox, \n",
    "         show_fall=fall_checkbox, \n",
    "         search_term=search_bar, \n",
    "         min_qty=qty_textbox)\n",
    "\n",
    "# Save the map to an HTML file (optional)\n",
    "m.save(\"FishMap_2024.html\")\n"
   ]
  }
 ],
 "metadata": {
  "kernelspec": {
   "display_name": "Python 3",
   "language": "python",
   "name": "python3"
  },
  "language_info": {
   "codemirror_mode": {
    "name": "ipython",
    "version": 3
   },
   "file_extension": ".py",
   "mimetype": "text/x-python",
   "name": "python",
   "nbconvert_exporter": "python",
   "pygments_lexer": "ipython3",
   "version": "3.9.6"
  }
 },
 "nbformat": 4,
 "nbformat_minor": 2
}
